{
 "cells": [
  {
   "cell_type": "markdown",
   "metadata": {
    "deletable": true,
    "editable": true
   },
   "source": [
    "# Restarting with the info I have learned\n",
    "This is my 3rd restart. I restarted by pulling out the patents in the target class with the code I improved for later use in processing the xml data."
   ]
  },
  {
   "cell_type": "markdown",
   "metadata": {
    "deletable": true,
    "editable": true
   },
   "source": [
    "### create what is known as a list of predictor-response pairs. \n",
    "This is a list of two-tuples that contain the most appropriate class label and the raw document text, as two separate components"
   ]
  },
  {
   "cell_type": "code",
   "execution_count": 7,
   "metadata": {
    "collapsed": true,
    "deletable": true,
    "editable": true
   },
   "outputs": [],
   "source": [
    "import pandas as pd\n",
    "import numpy as np\n",
    "import matplotlib.pyplot as plt\n",
    "import sklearn\n",
    "from sklearn.cross_validation import train_test_split\n",
    "from sklearn.feature_extraction.text import CountVectorizer\n",
    "from sklearn.ensemble import RandomForestClassifier\n",
    "from sklearn.naive_bayes import MultinomialNB\n",
    "from sklearn.feature_extraction.text import TfidfTransformer\n",
    "from sklearn.pipeline import Pipeline\n",
    "from sklearn.linear_model import SGDClassifier\n",
    "from sklearn import metrics\n",
    "from sklearn.grid_search import GridSearchCV\n",
    "from sklearn.neighbors import KNeighborsClassifier\n",
    "%matplotlib inline\n"
   ]
  },
  {
   "cell_type": "markdown",
   "metadata": {
    "deletable": true,
    "editable": true
   },
   "source": [
    "# Convert \"labels\" ('usMainClass') into dtype category\n",
    "Tips on specifying model\n",
    "Forcing categorical: the **‘usMainClass’ is automatical detected as a int64 dtype, and but this is more difficult for the ML models to recognize as different entities. Changing it to categorical dtype will make sure each of its different values are treated as different entities.**\n",
    "\n",
    "An integer column can be forced to be treated as categorical using:\n",
    "> model = ols('VIQ ~ C(Gender)', data).fit()\n",
    "\n",
    "Will creating a category datatype make the usMainClass useable as a classifier?"
   ]
  },
  {
   "cell_type": "code",
   "execution_count": 8,
   "metadata": {
    "collapsed": true,
    "deletable": true,
    "editable": true
   },
   "outputs": [],
   "source": [
    "names = ['claims', 'usMainClass', 'description', 'artUnit', 'patnum'] \n",
    "data = pd.read_csv('923freshStart.csv', names=names)"
   ]
  },
  {
   "cell_type": "code",
   "execution_count": 9,
   "metadata": {
    "collapsed": false,
    "deletable": true,
    "editable": true
   },
   "outputs": [
    {
     "data": {
      "text/html": [
       "<div>\n",
       "<table border=\"1\" class=\"dataframe\">\n",
       "  <thead>\n",
       "    <tr style=\"text-align: right;\">\n",
       "      <th></th>\n",
       "      <th>claims</th>\n",
       "      <th>usMainClass</th>\n",
       "      <th>description</th>\n",
       "      <th>artUnit</th>\n",
       "      <th>patnum</th>\n",
       "    </tr>\n",
       "  </thead>\n",
       "  <tbody>\n",
       "    <tr>\n",
       "      <th>0</th>\n",
       "      <td>claim id clm num claim text ornamental design ...</td>\n",
       "      <td>424</td>\n",
       "      <td>brief description drawings description brief d...</td>\n",
       "      <td>2912</td>\n",
       "      <td>USD0513109</td>\n",
       "    </tr>\n",
       "    <tr>\n",
       "      <th>1</th>\n",
       "      <td>claim id clm num claim text ornamental design ...</td>\n",
       "      <td>455</td>\n",
       "      <td>brief description drawings description brief d...</td>\n",
       "      <td>2912</td>\n",
       "      <td>USD0513233</td>\n",
       "    </tr>\n",
       "    <tr>\n",
       "      <th>2</th>\n",
       "      <td>claim id clm num claim text ornamental design ...</td>\n",
       "      <td>455</td>\n",
       "      <td>brief description drawings description brief d...</td>\n",
       "      <td>2912</td>\n",
       "      <td>USD0513234</td>\n",
       "    </tr>\n",
       "    <tr>\n",
       "      <th>3</th>\n",
       "      <td>claim id clm num claim text ornamental design ...</td>\n",
       "      <td>701</td>\n",
       "      <td>brief description drawings description brief d...</td>\n",
       "      <td>2912</td>\n",
       "      <td>USD0513235</td>\n",
       "    </tr>\n",
       "    <tr>\n",
       "      <th>4</th>\n",
       "      <td>claim id clm num claim text ornamental design ...</td>\n",
       "      <td>455</td>\n",
       "      <td>brief description drawings description brief d...</td>\n",
       "      <td>2912</td>\n",
       "      <td>USD0513236</td>\n",
       "    </tr>\n",
       "  </tbody>\n",
       "</table>\n",
       "</div>"
      ],
      "text/plain": [
       "                                              claims  usMainClass  \\\n",
       "0  claim id clm num claim text ornamental design ...          424   \n",
       "1  claim id clm num claim text ornamental design ...          455   \n",
       "2  claim id clm num claim text ornamental design ...          455   \n",
       "3  claim id clm num claim text ornamental design ...          701   \n",
       "4  claim id clm num claim text ornamental design ...          455   \n",
       "\n",
       "                                         description  artUnit      patnum  \n",
       "0  brief description drawings description brief d...     2912  USD0513109  \n",
       "1  brief description drawings description brief d...     2912  USD0513233  \n",
       "2  brief description drawings description brief d...     2912  USD0513234  \n",
       "3  brief description drawings description brief d...     2912  USD0513235  \n",
       "4  brief description drawings description brief d...     2912  USD0513236  "
      ]
     },
     "execution_count": 9,
     "metadata": {},
     "output_type": "execute_result"
    }
   ],
   "source": [
    "data.head()"
   ]
  },
  {
   "cell_type": "code",
   "execution_count": 10,
   "metadata": {
    "collapsed": false,
    "deletable": true,
    "editable": true
   },
   "outputs": [
    {
     "name": "stdout",
     "output_type": "stream",
     "text": [
      "<class 'pandas.core.frame.DataFrame'>\n",
      "RangeIndex: 19439 entries, 0 to 19438\n",
      "Data columns (total 5 columns):\n",
      "claims         19439 non-null object\n",
      "usMainClass    19439 non-null int64\n",
      "description    19439 non-null object\n",
      "artUnit        19439 non-null int64\n",
      "patnum         19439 non-null object\n",
      "dtypes: int64(2), object(3)\n",
      "memory usage: 759.4+ KB\n"
     ]
    }
   ],
   "source": [
    "data.info()"
   ]
  },
  {
   "cell_type": "code",
   "execution_count": 11,
   "metadata": {
    "collapsed": false,
    "deletable": true,
    "editable": true
   },
   "outputs": [],
   "source": [
    "data['usMainClass'] = data['usMainClass'].astype(\"category\")"
   ]
  },
  {
   "cell_type": "code",
   "execution_count": 12,
   "metadata": {
    "collapsed": false,
    "deletable": true,
    "editable": true,
    "scrolled": true
   },
   "outputs": [
    {
     "data": {
      "text/plain": [
       "<matplotlib.axes._subplots.AxesSubplot at 0x11aa89e90>"
      ]
     },
     "execution_count": 12,
     "metadata": {},
     "output_type": "execute_result"
    },
    {
     "data": {
      "image/png": "[encoded data removed]",
      "text/plain": [
       "<matplotlib.figure.Figure at 0x1578e6750>"
      ]
     },
     "metadata": {},
     "output_type": "display_data"
    }
   ],
   "source": [
    "data['usMainClass'].hist()"
   ]
  },
  {
   "cell_type": "code",
   "execution_count": 35,
   "metadata": {
    "collapsed": true,
    "deletable": true,
    "editable": true
   },
   "outputs": [],
   "source": [
    "data_full_target = data['usMainClass']"
   ]
  },
  {
   "cell_type": "code",
   "execution_count": 36,
   "metadata": {
    "collapsed": true,
    "deletable": true,
    "editable": true
   },
   "outputs": [],
   "source": [
    "data_full_input = data['description']"
   ]
  },
  {
   "cell_type": "code",
   "execution_count": 14,
   "metadata": {
    "collapsed": false,
    "deletable": true,
    "editable": true
   },
   "outputs": [],
   "source": [
    "data['artUnit'] = data['artUnit'].astype(\"category\")"
   ]
  },
  {
   "cell_type": "code",
   "execution_count": 15,
   "metadata": {
    "collapsed": false,
    "deletable": true,
    "editable": true,
    "scrolled": false
   },
   "outputs": [
    {
     "name": "stdout",
     "output_type": "stream",
     "text": [
      "<class 'pandas.core.frame.DataFrame'>\n",
      "RangeIndex: 19439 entries, 0 to 19438\n",
      "Data columns (total 5 columns):\n",
      "claims         19439 non-null object\n",
      "usMainClass    19439 non-null category\n",
      "description    19439 non-null object\n",
      "artUnit        19439 non-null category\n",
      "patnum         19439 non-null object\n",
      "dtypes: category(2), object(3)\n",
      "memory usage: 515.3+ KB\n"
     ]
    }
   ],
   "source": [
    "data.info()"
   ]
  },
  {
   "cell_type": "code",
   "execution_count": 16,
   "metadata": {
    "collapsed": false,
    "deletable": true,
    "editable": true
   },
   "outputs": [
    {
     "data": {
      "text/plain": [
       "257    4363\n",
       "370    2338\n",
       "345    2219\n",
       "514    2213\n",
       "709    1968\n",
       "455    1956\n",
       "348    1272\n",
       "424    1249\n",
       "707    1034\n",
       "701     827\n",
       "dtype: int64"
      ]
     },
     "execution_count": 16,
     "metadata": {},
     "output_type": "execute_result"
    }
   ],
   "source": [
    "data['usMainClass'].value_counts()"
   ]
  },
  {
   "cell_type": "code",
   "execution_count": 17,
   "metadata": {
    "collapsed": false,
    "deletable": true,
    "editable": true,
    "scrolled": true
   },
   "outputs": [
    {
     "data": {
      "text/plain": [
       "<matplotlib.axes._subplots.AxesSubplot at 0x11463b590>"
      ]
     },
     "execution_count": 17,
     "metadata": {},
     "output_type": "execute_result"
    },
    {
     "data": {
      "image/png": "[encoded data removed]",
      "text/plain": [
       "<matplotlib.figure.Figure at 0x11aa89e50>"
      ]
     },
     "metadata": {},
     "output_type": "display_data"
    }
   ],
   "source": [
    "data['usMainClass'].value_counts().plot(kind='bar')"
   ]
  },
  {
   "cell_type": "code",
   "execution_count": 18,
   "metadata": {
    "collapsed": false,
    "deletable": true,
    "editable": true
   },
   "outputs": [
    {
     "data": {
      "image/png": "[encoded data removed]",
      "text/plain": [
       "<matplotlib.figure.Figure at 0x1177502d0>"
      ]
     },
     "metadata": {},
     "output_type": "display_data"
    }
   ],
   "source": [
    "from statsmodels.graphics.mosaicplot import mosaic\n",
    "plt.rcParams['font.size'] = 16.0\n",
    "mosaic(data, ['usMainClass']);"
   ]
  },
  {
   "cell_type": "code",
   "execution_count": 19,
   "metadata": {
    "collapsed": false,
    "deletable": true,
    "editable": true,
    "scrolled": false
   },
   "outputs": [
    {
     "data": {
      "text/plain": [
       "<matplotlib.axes._subplots.AxesSubplot at 0x11710f990>"
      ]
     },
     "execution_count": 19,
     "metadata": {},
     "output_type": "execute_result"
    },
    {
     "data": {
      "image/png": "[encoded data removed]",
      "text/plain": [
       "<matplotlib.figure.Figure at 0x1146a3910>"
      ]
     },
     "metadata": {},
     "output_type": "display_data"
    }
   ],
   "source": [
    "data['usMainClass'].hist()"
   ]
  },
  {
   "cell_type": "code",
   "execution_count": 20,
   "metadata": {
    "collapsed": false,
    "deletable": true,
    "editable": true
   },
   "outputs": [],
   "source": [
    "dosData = data[['description','usMainClass']]"
   ]
  },
  {
   "cell_type": "code",
   "execution_count": 21,
   "metadata": {
    "collapsed": false,
    "deletable": true,
    "editable": true,
    "scrolled": true
   },
   "outputs": [
    {
     "data": {
      "text/html": [
       "<div>\n",
       "<table border=\"1\" class=\"dataframe\">\n",
       "  <thead>\n",
       "    <tr style=\"text-align: right;\">\n",
       "      <th></th>\n",
       "      <th>description</th>\n",
       "      <th>usMainClass</th>\n",
       "    </tr>\n",
       "  </thead>\n",
       "  <tbody>\n",
       "    <tr>\n",
       "      <th>0</th>\n",
       "      <td>brief description drawings description brief d...</td>\n",
       "      <td>424</td>\n",
       "    </tr>\n",
       "    <tr>\n",
       "      <th>1</th>\n",
       "      <td>brief description drawings description brief d...</td>\n",
       "      <td>455</td>\n",
       "    </tr>\n",
       "    <tr>\n",
       "      <th>2</th>\n",
       "      <td>brief description drawings description brief d...</td>\n",
       "      <td>455</td>\n",
       "    </tr>\n",
       "    <tr>\n",
       "      <th>3</th>\n",
       "      <td>brief description drawings description brief d...</td>\n",
       "      <td>701</td>\n",
       "    </tr>\n",
       "    <tr>\n",
       "      <th>4</th>\n",
       "      <td>brief description drawings description brief d...</td>\n",
       "      <td>455</td>\n",
       "    </tr>\n",
       "    <tr>\n",
       "      <th>5</th>\n",
       "      <td>brief description drawings description brief d...</td>\n",
       "      <td>455</td>\n",
       "    </tr>\n",
       "    <tr>\n",
       "      <th>6</th>\n",
       "      <td>brief description drawings description brief d...</td>\n",
       "      <td>455</td>\n",
       "    </tr>\n",
       "    <tr>\n",
       "      <th>7</th>\n",
       "      <td>brief description drawings description brief d...</td>\n",
       "      <td>345</td>\n",
       "    </tr>\n",
       "    <tr>\n",
       "      <th>8</th>\n",
       "      <td>brief description drawings description brief d...</td>\n",
       "      <td>455</td>\n",
       "    </tr>\n",
       "    <tr>\n",
       "      <th>9</th>\n",
       "      <td>brief description drawings description brief d...</td>\n",
       "      <td>455</td>\n",
       "    </tr>\n",
       "    <tr>\n",
       "      <th>10</th>\n",
       "      <td>brief description drawings description brief d...</td>\n",
       "      <td>455</td>\n",
       "    </tr>\n",
       "    <tr>\n",
       "      <th>11</th>\n",
       "      <td>brief description drawings description brief d...</td>\n",
       "      <td>455</td>\n",
       "    </tr>\n",
       "    <tr>\n",
       "      <th>12</th>\n",
       "      <td>brief description drawings description brief d...</td>\n",
       "      <td>455</td>\n",
       "    </tr>\n",
       "    <tr>\n",
       "      <th>13</th>\n",
       "      <td>brief description drawings description brief d...</td>\n",
       "      <td>455</td>\n",
       "    </tr>\n",
       "    <tr>\n",
       "      <th>14</th>\n",
       "      <td>brief description drawings description brief d...</td>\n",
       "      <td>455</td>\n",
       "    </tr>\n",
       "    <tr>\n",
       "      <th>15</th>\n",
       "      <td>relapp description patent relations end lead p...</td>\n",
       "      <td>701</td>\n",
       "    </tr>\n",
       "    <tr>\n",
       "      <th>16</th>\n",
       "      <td>brfsum description brief summary end lead head...</td>\n",
       "      <td>701</td>\n",
       "    </tr>\n",
       "    <tr>\n",
       "      <th>17</th>\n",
       "      <td>govint description government interest end lea...</td>\n",
       "      <td>348</td>\n",
       "    </tr>\n",
       "    <tr>\n",
       "      <th>18</th>\n",
       "      <td>brfsum description brief summary end lead head...</td>\n",
       "      <td>701</td>\n",
       "    </tr>\n",
       "    <tr>\n",
       "      <th>19</th>\n",
       "      <td>brfsum description brief summary end lead head...</td>\n",
       "      <td>257</td>\n",
       "    </tr>\n",
       "    <tr>\n",
       "      <th>20</th>\n",
       "      <td>brfsum description brief summary end lead head...</td>\n",
       "      <td>257</td>\n",
       "    </tr>\n",
       "    <tr>\n",
       "      <th>21</th>\n",
       "      <td>brfsum description brief summary end lead head...</td>\n",
       "      <td>257</td>\n",
       "    </tr>\n",
       "    <tr>\n",
       "      <th>22</th>\n",
       "      <td>brfsum description brief summary end lead head...</td>\n",
       "      <td>424</td>\n",
       "    </tr>\n",
       "    <tr>\n",
       "      <th>23</th>\n",
       "      <td>brfsum description brief summary end lead head...</td>\n",
       "      <td>424</td>\n",
       "    </tr>\n",
       "    <tr>\n",
       "      <th>24</th>\n",
       "      <td>brfsum description brief summary end lead head...</td>\n",
       "      <td>701</td>\n",
       "    </tr>\n",
       "    <tr>\n",
       "      <th>25</th>\n",
       "      <td>brfsum description brief summary end lead head...</td>\n",
       "      <td>701</td>\n",
       "    </tr>\n",
       "    <tr>\n",
       "      <th>26</th>\n",
       "      <td>brfsum description brief summary end lead p id...</td>\n",
       "      <td>348</td>\n",
       "    </tr>\n",
       "    <tr>\n",
       "      <th>27</th>\n",
       "      <td>brfsum description brief summary end lead p id...</td>\n",
       "      <td>348</td>\n",
       "    </tr>\n",
       "    <tr>\n",
       "      <th>28</th>\n",
       "      <td>brfsum description brief summary end lead head...</td>\n",
       "      <td>345</td>\n",
       "    </tr>\n",
       "    <tr>\n",
       "      <th>29</th>\n",
       "      <td>relapp description patent relations end lead h...</td>\n",
       "      <td>348</td>\n",
       "    </tr>\n",
       "    <tr>\n",
       "      <th>...</th>\n",
       "      <td>...</td>\n",
       "      <td>...</td>\n",
       "    </tr>\n",
       "    <tr>\n",
       "      <th>19409</th>\n",
       "      <td>brfsum description brief summary end lead head...</td>\n",
       "      <td>709</td>\n",
       "    </tr>\n",
       "    <tr>\n",
       "      <th>19410</th>\n",
       "      <td>relapp description patent relations end lead h...</td>\n",
       "      <td>709</td>\n",
       "    </tr>\n",
       "    <tr>\n",
       "      <th>19411</th>\n",
       "      <td>brfsum description brief summary end lead head...</td>\n",
       "      <td>707</td>\n",
       "    </tr>\n",
       "    <tr>\n",
       "      <th>19412</th>\n",
       "      <td>brfsum description brief summary end lead head...</td>\n",
       "      <td>709</td>\n",
       "    </tr>\n",
       "    <tr>\n",
       "      <th>19413</th>\n",
       "      <td>brfsum description brief summary end lead head...</td>\n",
       "      <td>370</td>\n",
       "    </tr>\n",
       "    <tr>\n",
       "      <th>19414</th>\n",
       "      <td>brfsum description brief summary end lead head...</td>\n",
       "      <td>709</td>\n",
       "    </tr>\n",
       "    <tr>\n",
       "      <th>19415</th>\n",
       "      <td>brfsum description brief summary end lead p id...</td>\n",
       "      <td>707</td>\n",
       "    </tr>\n",
       "    <tr>\n",
       "      <th>19416</th>\n",
       "      <td>brfsum description brief summary end lead p id...</td>\n",
       "      <td>707</td>\n",
       "    </tr>\n",
       "    <tr>\n",
       "      <th>19417</th>\n",
       "      <td>relapp description patent relations end lead h...</td>\n",
       "      <td>370</td>\n",
       "    </tr>\n",
       "    <tr>\n",
       "      <th>19418</th>\n",
       "      <td>brfsum description brief summary end lead head...</td>\n",
       "      <td>345</td>\n",
       "    </tr>\n",
       "    <tr>\n",
       "      <th>19419</th>\n",
       "      <td>brfsum description brief summary end lead head...</td>\n",
       "      <td>707</td>\n",
       "    </tr>\n",
       "    <tr>\n",
       "      <th>19420</th>\n",
       "      <td>brfsum description brief summary end lead head...</td>\n",
       "      <td>455</td>\n",
       "    </tr>\n",
       "    <tr>\n",
       "      <th>19421</th>\n",
       "      <td>brfsum description brief summary end lead head...</td>\n",
       "      <td>709</td>\n",
       "    </tr>\n",
       "    <tr>\n",
       "      <th>19422</th>\n",
       "      <td>relapp description patent relations end lead h...</td>\n",
       "      <td>345</td>\n",
       "    </tr>\n",
       "    <tr>\n",
       "      <th>19423</th>\n",
       "      <td>relapp description patent relations end lead h...</td>\n",
       "      <td>345</td>\n",
       "    </tr>\n",
       "    <tr>\n",
       "      <th>19424</th>\n",
       "      <td>brfsum description brief summary end lead head...</td>\n",
       "      <td>345</td>\n",
       "    </tr>\n",
       "    <tr>\n",
       "      <th>19425</th>\n",
       "      <td>brfsum description brief summary end lead head...</td>\n",
       "      <td>345</td>\n",
       "    </tr>\n",
       "    <tr>\n",
       "      <th>19426</th>\n",
       "      <td>brfsum description brief summary end lead head...</td>\n",
       "      <td>345</td>\n",
       "    </tr>\n",
       "    <tr>\n",
       "      <th>19427</th>\n",
       "      <td>relapp description patent relations end lead p...</td>\n",
       "      <td>257</td>\n",
       "    </tr>\n",
       "    <tr>\n",
       "      <th>19428</th>\n",
       "      <td>relapp description patent relations end lead h...</td>\n",
       "      <td>345</td>\n",
       "    </tr>\n",
       "    <tr>\n",
       "      <th>19429</th>\n",
       "      <td>brfsum description brief summary end lead head...</td>\n",
       "      <td>707</td>\n",
       "    </tr>\n",
       "    <tr>\n",
       "      <th>19430</th>\n",
       "      <td>brfsum description brief summary end lead head...</td>\n",
       "      <td>707</td>\n",
       "    </tr>\n",
       "    <tr>\n",
       "      <th>19431</th>\n",
       "      <td>brfsum description brief summary end lead head...</td>\n",
       "      <td>709</td>\n",
       "    </tr>\n",
       "    <tr>\n",
       "      <th>19432</th>\n",
       "      <td>relapp description patent relations end lead h...</td>\n",
       "      <td>709</td>\n",
       "    </tr>\n",
       "    <tr>\n",
       "      <th>19433</th>\n",
       "      <td>brfsum description brief summary end lead head...</td>\n",
       "      <td>370</td>\n",
       "    </tr>\n",
       "    <tr>\n",
       "      <th>19434</th>\n",
       "      <td>brfsum description brief summary end lead head...</td>\n",
       "      <td>514</td>\n",
       "    </tr>\n",
       "    <tr>\n",
       "      <th>19435</th>\n",
       "      <td>brfsum description brief summary end lead head...</td>\n",
       "      <td>709</td>\n",
       "    </tr>\n",
       "    <tr>\n",
       "      <th>19436</th>\n",
       "      <td>relapp description patent relations end lead p...</td>\n",
       "      <td>370</td>\n",
       "    </tr>\n",
       "    <tr>\n",
       "      <th>19437</th>\n",
       "      <td>brfsum description brief summary end lead head...</td>\n",
       "      <td>709</td>\n",
       "    </tr>\n",
       "    <tr>\n",
       "      <th>19438</th>\n",
       "      <td>brfsum description brief summary end lead p id...</td>\n",
       "      <td>345</td>\n",
       "    </tr>\n",
       "  </tbody>\n",
       "</table>\n",
       "<p>19439 rows × 2 columns</p>\n",
       "</div>"
      ],
      "text/plain": [
       "                                             description usMainClass\n",
       "0      brief description drawings description brief d...         424\n",
       "1      brief description drawings description brief d...         455\n",
       "2      brief description drawings description brief d...         455\n",
       "3      brief description drawings description brief d...         701\n",
       "4      brief description drawings description brief d...         455\n",
       "5      brief description drawings description brief d...         455\n",
       "6      brief description drawings description brief d...         455\n",
       "7      brief description drawings description brief d...         345\n",
       "8      brief description drawings description brief d...         455\n",
       "9      brief description drawings description brief d...         455\n",
       "10     brief description drawings description brief d...         455\n",
       "11     brief description drawings description brief d...         455\n",
       "12     brief description drawings description brief d...         455\n",
       "13     brief description drawings description brief d...         455\n",
       "14     brief description drawings description brief d...         455\n",
       "15     relapp description patent relations end lead p...         701\n",
       "16     brfsum description brief summary end lead head...         701\n",
       "17     govint description government interest end lea...         348\n",
       "18     brfsum description brief summary end lead head...         701\n",
       "19     brfsum description brief summary end lead head...         257\n",
       "20     brfsum description brief summary end lead head...         257\n",
       "21     brfsum description brief summary end lead head...         257\n",
       "22     brfsum description brief summary end lead head...         424\n",
       "23     brfsum description brief summary end lead head...         424\n",
       "24     brfsum description brief summary end lead head...         701\n",
       "25     brfsum description brief summary end lead head...         701\n",
       "26     brfsum description brief summary end lead p id...         348\n",
       "27     brfsum description brief summary end lead p id...         348\n",
       "28     brfsum description brief summary end lead head...         345\n",
       "29     relapp description patent relations end lead h...         348\n",
       "...                                                  ...         ...\n",
       "19409  brfsum description brief summary end lead head...         709\n",
       "19410  relapp description patent relations end lead h...         709\n",
       "19411  brfsum description brief summary end lead head...         707\n",
       "19412  brfsum description brief summary end lead head...         709\n",
       "19413  brfsum description brief summary end lead head...         370\n",
       "19414  brfsum description brief summary end lead head...         709\n",
       "19415  brfsum description brief summary end lead p id...         707\n",
       "19416  brfsum description brief summary end lead p id...         707\n",
       "19417  relapp description patent relations end lead h...         370\n",
       "19418  brfsum description brief summary end lead head...         345\n",
       "19419  brfsum description brief summary end lead head...         707\n",
       "19420  brfsum description brief summary end lead head...         455\n",
       "19421  brfsum description brief summary end lead head...         709\n",
       "19422  relapp description patent relations end lead h...         345\n",
       "19423  relapp description patent relations end lead h...         345\n",
       "19424  brfsum description brief summary end lead head...         345\n",
       "19425  brfsum description brief summary end lead head...         345\n",
       "19426  brfsum description brief summary end lead head...         345\n",
       "19427  relapp description patent relations end lead p...         257\n",
       "19428  relapp description patent relations end lead h...         345\n",
       "19429  brfsum description brief summary end lead head...         707\n",
       "19430  brfsum description brief summary end lead head...         707\n",
       "19431  brfsum description brief summary end lead head...         709\n",
       "19432  relapp description patent relations end lead h...         709\n",
       "19433  brfsum description brief summary end lead head...         370\n",
       "19434  brfsum description brief summary end lead head...         514\n",
       "19435  brfsum description brief summary end lead head...         709\n",
       "19436  relapp description patent relations end lead p...         370\n",
       "19437  brfsum description brief summary end lead head...         709\n",
       "19438  brfsum description brief summary end lead p id...         345\n",
       "\n",
       "[19439 rows x 2 columns]"
      ]
     },
     "execution_count": 21,
     "metadata": {},
     "output_type": "execute_result"
    }
   ],
   "source": [
    "dosData"
   ]
  },
  {
   "cell_type": "code",
   "execution_count": 22,
   "metadata": {
    "collapsed": true,
    "deletable": true,
    "editable": true
   },
   "outputs": [],
   "source": [
    "null_description = pd.isnull(dosData['description'])"
   ]
  },
  {
   "cell_type": "code",
   "execution_count": 23,
   "metadata": {
    "collapsed": false,
    "deletable": true,
    "editable": true
   },
   "outputs": [
    {
     "name": "stdout",
     "output_type": "stream",
     "text": [
      "0\n"
     ]
    }
   ],
   "source": [
    "count = 0\n",
    "for row in null_description:\n",
    "    if row == True:\n",
    "        count = count+1 \n",
    "    else:\n",
    "        count = count +0\n",
    "print count"
   ]
  },
  {
   "cell_type": "code",
   "execution_count": 24,
   "metadata": {
    "collapsed": false,
    "deletable": true,
    "editable": true
   },
   "outputs": [],
   "source": [
    "null_class = pd.isnull(dosData['usMainClass'])"
   ]
  },
  {
   "cell_type": "code",
   "execution_count": 25,
   "metadata": {
    "collapsed": false,
    "deletable": true,
    "editable": true
   },
   "outputs": [
    {
     "name": "stdout",
     "output_type": "stream",
     "text": [
      "0\n"
     ]
    }
   ],
   "source": [
    "count_nc = 0\n",
    "for row in null_class:\n",
    "    if row == True:\n",
    "        count_nc = count_nc+1 \n",
    "    else:\n",
    "        count_nc = count_nc +0\n",
    "print count_nc"
   ]
  },
  {
   "cell_type": "code",
   "execution_count": 26,
   "metadata": {
    "collapsed": true,
    "deletable": true,
    "editable": true
   },
   "outputs": [],
   "source": [
    "train, test = train_test_split(data, test_size = 0.3)"
   ]
  },
  {
   "cell_type": "code",
   "execution_count": 27,
   "metadata": {
    "collapsed": false,
    "deletable": true,
    "editable": true
   },
   "outputs": [
    {
     "data": {
      "text/plain": [
       "257    3069\n",
       "370    1628\n",
       "514    1532\n",
       "345    1530\n",
       "455    1388\n",
       "709    1377\n",
       "348     887\n",
       "424     861\n",
       "707     740\n",
       "701     595\n",
       "dtype: int64"
      ]
     },
     "execution_count": 27,
     "metadata": {},
     "output_type": "execute_result"
    }
   ],
   "source": [
    "train['usMainClass'].value_counts()"
   ]
  },
  {
   "cell_type": "code",
   "execution_count": 28,
   "metadata": {
    "collapsed": false,
    "deletable": true,
    "editable": true,
    "scrolled": true
   },
   "outputs": [
    {
     "data": {
      "text/plain": [
       "<matplotlib.axes._subplots.AxesSubplot at 0x11b111bd0>"
      ]
     },
     "execution_count": 28,
     "metadata": {},
     "output_type": "execute_result"
    },
    {
     "data": {
      "image/png": "[encoded data removed]",
      "text/plain": [
       "<matplotlib.figure.Figure at 0x11b11b050>"
      ]
     },
     "metadata": {},
     "output_type": "display_data"
    }
   ],
   "source": [
    "train['usMainClass'].value_counts().plot(kind='bar')"
   ]
  },
  {
   "cell_type": "code",
   "execution_count": 29,
   "metadata": {
    "collapsed": false,
    "deletable": true,
    "editable": true
   },
   "outputs": [
    {
     "data": {
      "text/plain": [
       "257    1294\n",
       "370     710\n",
       "345     689\n",
       "514     681\n",
       "709     591\n",
       "455     568\n",
       "424     388\n",
       "348     385\n",
       "707     294\n",
       "701     232\n",
       "dtype: int64"
      ]
     },
     "execution_count": 29,
     "metadata": {},
     "output_type": "execute_result"
    }
   ],
   "source": [
    "test['usMainClass'].value_counts()"
   ]
  },
  {
   "cell_type": "code",
   "execution_count": 30,
   "metadata": {
    "collapsed": false,
    "deletable": true,
    "editable": true,
    "scrolled": true
   },
   "outputs": [
    {
     "data": {
      "text/plain": [
       "<matplotlib.axes._subplots.AxesSubplot at 0x11b1115d0>"
      ]
     },
     "execution_count": 30,
     "metadata": {},
     "output_type": "execute_result"
    },
    {
     "data": {
      "image/png": "[encoded data removed]",
      "text/plain": [
       "<matplotlib.figure.Figure at 0x156cad490>"
      ]
     },
     "metadata": {},
     "output_type": "display_data"
    }
   ],
   "source": [
    "test['usMainClass'].value_counts().plot(kind='bar')"
   ]
  },
  {
   "cell_type": "code",
   "execution_count": 31,
   "metadata": {
    "collapsed": true,
    "deletable": true,
    "editable": true
   },
   "outputs": [],
   "source": [
    "trainInput = train['description']"
   ]
  },
  {
   "cell_type": "code",
   "execution_count": 32,
   "metadata": {
    "collapsed": true,
    "deletable": true,
    "editable": true
   },
   "outputs": [],
   "source": [
    "trainTarget = train['usMainClass']"
   ]
  },
  {
   "cell_type": "code",
   "execution_count": 33,
   "metadata": {
    "collapsed": false,
    "deletable": true,
    "editable": true
   },
   "outputs": [],
   "source": [
    "text_clf = Pipeline([('vect', CountVectorizer()),('tfidf', TfidfTransformer()),('clf', MultinomialNB()),])"
   ]
  },
  {
   "cell_type": "code",
   "execution_count": 34,
   "metadata": {
    "collapsed": true,
    "deletable": true,
    "editable": true
   },
   "outputs": [],
   "source": [
    "text_clf = text_clf.fit(trainInput, trainTarget)"
   ]
  },
  {
   "cell_type": "markdown",
   "metadata": {
    "deletable": true,
    "editable": true
   },
   "source": [
    "### validation --------------------left off"
   ]
  },
  {
   "cell_type": "code",
   "execution_count": 41,
   "metadata": {
    "collapsed": false,
    "deletable": true,
    "editable": true
   },
   "outputs": [],
   "source": [
    "from sklearn import cross_validation"
   ]
  },
  {
   "cell_type": "code",
   "execution_count": 46,
   "metadata": {
    "collapsed": false,
    "deletable": true,
    "editable": true
   },
   "outputs": [
    {
     "name": "stdout",
     "output_type": "stream",
     "text": [
      "Accuracy: 56.680% (1.836%)\n"
     ]
    }
   ],
   "source": [
    "num_folds = 3\n",
    "num_instances = len(data_full_input)\n",
    "seed = 2\n",
    "model = text_clf\n",
    "kfold = cross_validation.KFold(n=num_instances, n_folds=num_folds, random_state=seed)\n",
    "results = cross_validation.cross_val_score(model, data_full_input, data_full_target, cv=kfold)\n",
    "print(\"Accuracy: %.3f%% (%.3f%%)\") % (results.mean()*100.0, results.std()*100.0)\n",
    " "
   ]
  },
  {
   "cell_type": "code",
   "execution_count": 47,
   "metadata": {
    "collapsed": true,
    "deletable": true,
    "editable": true
   },
   "outputs": [],
   "source": [
    "testInput = test['description']\n",
    "testTarget = test['usMainClass']"
   ]
  },
  {
   "cell_type": "code",
   "execution_count": 48,
   "metadata": {
    "collapsed": false,
    "deletable": true,
    "editable": true
   },
   "outputs": [
    {
     "data": {
      "text/plain": [
       "0.57921810699588472"
      ]
     },
     "execution_count": 48,
     "metadata": {},
     "output_type": "execute_result"
    }
   ],
   "source": [
    "predicted = text_clf.predict(testInput)\n",
    "np.mean(predicted == testTarget)"
   ]
  },
  {
   "cell_type": "code",
   "execution_count": 24,
   "metadata": {
    "collapsed": false,
    "deletable": true,
    "editable": true
   },
   "outputs": [
    {
     "name": "stdout",
     "output_type": "stream",
     "text": [
      "             precision    recall  f1-score   support\n",
      "\n",
      "        257       0.62      1.00      0.76      1264\n",
      "        345       0.54      0.46      0.50       694\n",
      "        348       1.00      0.01      0.02       387\n",
      "        370       0.47      0.87      0.61       690\n",
      "        424       0.00      0.00      0.00       387\n",
      "        455       0.68      0.14      0.23       565\n",
      "        514       0.65      0.98      0.78       674\n",
      "        701       1.00      0.10      0.17       262\n",
      "        707       0.00      0.00      0.00       318\n",
      "        709       0.46      0.58      0.51       591\n",
      "\n",
      "avg / total       0.55      0.56      0.47      5832\n",
      "\n"
     ]
    },
    {
     "name": "stderr",
     "output_type": "stream",
     "text": [
      "/Users/robert/anaconda/envs/gl-env/lib/python2.7/site-packages/sklearn/metrics/classification.py:1074: UndefinedMetricWarning: Precision and F-score are ill-defined and being set to 0.0 in labels with no predicted samples.\n",
      "  'precision', 'predicted', average, warn_for)\n"
     ]
    },
    {
     "data": {
      "text/plain": [
       "array([[1259,    1,    0,    0,    0,    0,    4,    0,    0,    0],\n",
       "       [ 249,  319,    0,   34,    0,    8,    4,    0,    0,   80],\n",
       "       [ 179,  136,    4,   48,    0,    4,    0,    0,    0,   16],\n",
       "       [  22,    4,    0,  598,    0,   11,    0,    0,    0,   55],\n",
       "       [  53,    0,    0,    0,    0,    0,  334,    0,    0,    0],\n",
       "       [ 123,   33,    0,  296,    0,   80,    5,    0,    0,   28],\n",
       "       [  10,    0,    0,    0,    0,    0,  663,    0,    0,    1],\n",
       "       [ 128,   22,    0,   61,    0,   12,    0,   25,    0,   14],\n",
       "       [  17,   49,    0,   38,    0,    0,    6,    0,    0,  208],\n",
       "       [   6,   22,    0,  210,    0,    2,   10,    0,    0,  341]])"
      ]
     },
     "execution_count": 24,
     "metadata": {},
     "output_type": "execute_result"
    }
   ],
   "source": [
    "print(metrics.classification_report(testTarget, predicted))\n",
    "metrics.confusion_matrix(testTarget, predicted)"
   ]
  },
  {
   "cell_type": "markdown",
   "metadata": {
    "deletable": true,
    "editable": true
   },
   "source": [
    "### 3% improvement over freshStart.ipyn by changing the usMainClass into a category. Also I have a larger data set by 6,000 patents."
   ]
  },
  {
   "cell_type": "markdown",
   "metadata": {
    "deletable": true,
    "editable": true
   },
   "source": [
    "# Linear SVM"
   ]
  },
  {
   "cell_type": "code",
   "execution_count": 25,
   "metadata": {
    "collapsed": true,
    "deletable": true,
    "editable": true
   },
   "outputs": [],
   "source": [
    "textOGSVM_clf = Pipeline([('vect', CountVectorizer()),('tfidf', TfidfTransformer()),('clf', SGDClassifier()),])\n",
    "textOGSVM_clf = textOGSVM_clf.fit(trainInput, trainTarget)"
   ]
  },
  {
   "cell_type": "code",
   "execution_count": 26,
   "metadata": {
    "collapsed": false,
    "deletable": true,
    "editable": true
   },
   "outputs": [
    {
     "data": {
      "text/plain": [
       "0.71913580246913578"
      ]
     },
     "execution_count": 26,
     "metadata": {},
     "output_type": "execute_result"
    }
   ],
   "source": [
    "svm_OG_predicted = textOGSVM_clf.predict(testInput)\n",
    "np.mean(svm_OG_predicted == testTarget)  "
   ]
  },
  {
   "cell_type": "code",
   "execution_count": 27,
   "metadata": {
    "collapsed": false,
    "deletable": true,
    "editable": true,
    "scrolled": true
   },
   "outputs": [
    {
     "name": "stdout",
     "output_type": "stream",
     "text": [
      "             precision    recall  f1-score   support\n",
      "\n",
      "        257       0.94      0.97      0.96      1264\n",
      "        345       0.71      0.63      0.67       694\n",
      "        348       0.65      0.58      0.61       387\n",
      "        370       0.61      0.66      0.64       690\n",
      "        424       0.68      0.68      0.68       387\n",
      "        455       0.61      0.63      0.62       565\n",
      "        514       0.82      0.82      0.82       674\n",
      "        701       0.74      0.73      0.74       262\n",
      "        707       0.57      0.43      0.49       318\n",
      "        709       0.51      0.57      0.54       591\n",
      "\n",
      "avg / total       0.72      0.72      0.72      5832\n",
      "\n"
     ]
    },
    {
     "data": {
      "text/plain": [
       "array([[1230,   13,    9,    4,    2,    3,    2,    1,    0,    0],\n",
       "       [  30,  440,   65,   10,    0,   44,    1,   15,   37,   52],\n",
       "       [  23,   68,  225,   17,    0,   23,    0,    9,    8,   14],\n",
       "       [   4,    2,    7,  456,    0,  109,    0,    7,    6,   99],\n",
       "       [   2,    0,    2,    0,  264,    0,  119,    0,    0,    0],\n",
       "       [   5,   28,    7,  104,    1,  357,    0,   22,    4,   37],\n",
       "       [   1,    0,    0,    0,  117,    0,  555,    0,    0,    1],\n",
       "       [   5,   11,    6,    7,    1,   25,    0,  192,    4,   11],\n",
       "       [   4,   31,   11,    8,    2,    4,    0,    8,  138,  112],\n",
       "       [   1,   27,   15,  136,    0,   25,    2,    5,   43,  337]])"
      ]
     },
     "execution_count": 27,
     "metadata": {},
     "output_type": "execute_result"
    }
   ],
   "source": [
    "print(metrics.classification_report(testTarget, svm_OG_predicted))\n",
    "metrics.confusion_matrix(testTarget, svm_OG_predicted)"
   ]
  },
  {
   "cell_type": "code",
   "execution_count": 19,
   "metadata": {
    "collapsed": true,
    "deletable": true,
    "editable": true
   },
   "outputs": [],
   "source": [
    "textSVM_clf = Pipeline([('vect', CountVectorizer()),('tfidf', TfidfTransformer()),('clf', SGDClassifier(loss='hinge', penalty='l2',alpha=1e-3, n_iter=5, random_state=42)),])\n",
    "textSVM_clf = textSVM_clf.fit(trainInput, trainTarget)"
   ]
  },
  {
   "cell_type": "code",
   "execution_count": 20,
   "metadata": {
    "collapsed": false,
    "deletable": true,
    "editable": true
   },
   "outputs": [
    {
     "data": {
      "text/plain": [
       "0.70096021947873799"
      ]
     },
     "execution_count": 20,
     "metadata": {},
     "output_type": "execute_result"
    }
   ],
   "source": [
    "svm_predicted = textSVM_clf.predict(testInput)\n",
    "np.mean(svm_predicted == testTarget)  "
   ]
  },
  {
   "cell_type": "code",
   "execution_count": 21,
   "metadata": {
    "collapsed": false,
    "deletable": true,
    "editable": true,
    "scrolled": false
   },
   "outputs": [
    {
     "name": "stdout",
     "output_type": "stream",
     "text": [
      "             precision    recall  f1-score   support\n",
      "\n",
      "        257       0.90      0.99      0.94      1355\n",
      "        345       0.62      0.72      0.67       634\n",
      "        348       0.70      0.51      0.59       366\n",
      "        370       0.57      0.69      0.62       709\n",
      "        424       0.73      0.22      0.33       366\n",
      "        455       0.65      0.56      0.60       587\n",
      "        514       0.68      0.96      0.80       682\n",
      "        701       0.73      0.79      0.76       219\n",
      "        707       0.64      0.33      0.43       310\n",
      "        709       0.55      0.46      0.50       604\n",
      "\n",
      "avg / total       0.70      0.70      0.68      5832\n",
      "\n"
     ]
    },
    {
     "data": {
      "text/plain": [
       "array([[1335,    5,    4,    1,    0,    2,    7,    1,    0,    0],\n",
       "       [  58,  458,   33,   12,    1,    9,    6,   14,   12,   31],\n",
       "       [  22,  101,  188,   22,    0,   13,    1,   11,    2,    6],\n",
       "       [  10,    5,    9,  488,    0,  126,    9,    7,    4,   51],\n",
       "       [  22,    2,    1,    0,   79,    1,  260,    1,    0,    0],\n",
       "       [  21,   60,    5,  119,    0,  331,    4,   16,    1,   30],\n",
       "       [   0,    0,    0,    0,   26,    0,  656,    0,    0,    0],\n",
       "       [   4,   10,    3,    5,    0,   16,    1,  173,    3,    4],\n",
       "       [   5,   54,   11,   18,    2,    1,   10,    6,  102,  101],\n",
       "       [   3,   47,   16,  194,    0,   14,    7,    9,   36,  278]])"
      ]
     },
     "execution_count": 21,
     "metadata": {},
     "output_type": "execute_result"
    }
   ],
   "source": [
    "\n",
    "print(metrics.classification_report(testTarget, svm_predicted))\n",
    "metrics.confusion_matrix(testTarget, svm_predicted)"
   ]
  },
  {
   "cell_type": "code",
   "execution_count": 90,
   "metadata": {
    "collapsed": true,
    "deletable": true,
    "editable": true
   },
   "outputs": [],
   "source": [
    "def plot_classification_report(cr, title='Classification report ', with_avg_total=False, cmap=plt.cm.Blues):\n",
    "\n",
    "    lines = cr.split('\\n')\n",
    "\n",
    "    classes = []\n",
    "    plotMat = []\n",
    "    for line in lines[2 : (len(lines) - 3)]:\n",
    "        #print(line)\n",
    "        t = line.split()\n",
    "        # print(t)\n",
    "        classes.append(t[0])\n",
    "        v = [float(x) for x in t[1: len(t) - 1]]\n",
    "        print(v)\n",
    "        plotMat.append(v)\n",
    "\n",
    "    if with_avg_total:\n",
    "        aveTotal = lines[len(lines) - 1].split()\n",
    "        classes.append('avg/total')\n",
    "        vAveTotal = [float(x) for x in t[1:len(aveTotal) - 1]]\n",
    "        plotMat.append(vAveTotal)\n",
    "\n",
    "\n",
    "    plt.imshow(plotMat, interpolation='nearest', cmap=cmap)\n",
    "    plt.title(title)\n",
    "    plt.colorbar()\n",
    "    x_tick_marks = np.arange(3)\n",
    "    y_tick_marks = np.arange(len(classes))\n",
    "    plt.xticks(x_tick_marks, ['precision', 'recall', 'f1-score'], rotation=45)\n",
    "    plt.yticks(y_tick_marks, classes)\n",
    "    plt.tight_layout()\n",
    "    plt.ylabel('Classes')\n",
    "    plt.xlabel('Measures')"
   ]
  },
  {
   "cell_type": "code",
   "execution_count": 91,
   "metadata": {
    "collapsed": false,
    "deletable": true,
    "editable": true
   },
   "outputs": [
    {
     "name": "stdout",
     "output_type": "stream",
     "text": [
      "[0.9, 0.99, 0.94]\n",
      "[0.62, 0.72, 0.67]\n",
      "[0.7, 0.51, 0.59]\n",
      "[0.57, 0.69, 0.62]\n",
      "[0.73, 0.22, 0.33]\n",
      "[0.65, 0.56, 0.6]\n",
      "[0.68, 0.96, 0.8]\n",
      "[0.73, 0.79, 0.76]\n",
      "[0.64, 0.33, 0.43]\n",
      "[0.55, 0.46, 0.5]\n"
     ]
    },
    {
     "data": {
      "image/png": "[encoded data removed]",
      "text/plain": [
       "<matplotlib.figure.Figure at 0x120e4d9d0>"
      ]
     },
     "metadata": {},
     "output_type": "display_data"
    }
   ],
   "source": [
    "sampleClassificationReport = metrics.classification_report(testTarget, svm_predicted)\n",
    "plot_classification_report(sampleClassificationReport)"
   ]
  },
  {
   "cell_type": "markdown",
   "metadata": {
    "deletable": true,
    "editable": true
   },
   "source": [
    "### 5% increase over freshStart.ipyn by changing the usMainClass into a category. Also I have a larger data set by 6,000 patents.\n",
    "\n",
    "** Base line of 90% met for class 257** This tells me that more data is needed for the samples to properly be labeled since 257 has 1380, while the other classes have lower accuracy and lower support. While this is just the ammount in the test sample, it is indicative of the training sample."
   ]
  },
  {
   "cell_type": "code",
   "execution_count": 36,
   "metadata": {
    "collapsed": true,
    "deletable": true,
    "editable": true
   },
   "outputs": [],
   "source": [
    "textknn_clf = Pipeline([('vect', CountVectorizer()),('tfidf', TfidfTransformer()),('clf', KNeighborsClassifier()),])\n",
    "textknn_clf = text_clf.fit(trainInput, trainTarget)"
   ]
  },
  {
   "cell_type": "code",
   "execution_count": 38,
   "metadata": {
    "collapsed": false,
    "deletable": true,
    "editable": true
   },
   "outputs": [
    {
     "data": {
      "text/plain": [
       "array([370, 257, 709, ..., 257, 514, 455])"
      ]
     },
     "execution_count": 38,
     "metadata": {},
     "output_type": "execute_result"
    }
   ],
   "source": [
    "textknn_clf.predict(testInput)"
   ]
  },
  {
   "cell_type": "code",
   "execution_count": 39,
   "metadata": {
    "collapsed": false,
    "deletable": true,
    "editable": true,
    "scrolled": true
   },
   "outputs": [
    {
     "data": {
      "text/plain": [
       "0.58796296296296291"
      ]
     },
     "execution_count": 39,
     "metadata": {},
     "output_type": "execute_result"
    }
   ],
   "source": [
    "predictedknn = textknn_clf.predict(testInput)\n",
    "np.mean(predictedknn == testTarget) "
   ]
  },
  {
   "cell_type": "markdown",
   "metadata": {
    "deletable": true,
    "editable": true
   },
   "source": [
    "### increase of 1% over freshStart.ipyn"
   ]
  },
  {
   "cell_type": "code",
   "execution_count": 40,
   "metadata": {
    "collapsed": false,
    "deletable": true,
    "editable": true
   },
   "outputs": [
    {
     "name": "stdout",
     "output_type": "stream",
     "text": [
      "             precision    recall  f1-score   support\n",
      "\n",
      "        257       0.66      1.00      0.79      1380\n",
      "        345       0.54      0.49      0.52       673\n",
      "        348       1.00      0.01      0.02       380\n",
      "        370       0.49      0.88      0.62       699\n",
      "        424       0.00      0.00      0.00       362\n",
      "        455       0.70      0.16      0.27       560\n",
      "        514       0.65      0.99      0.79       658\n",
      "        701       0.97      0.15      0.26       245\n",
      "        707       0.00      0.00      0.00       278\n",
      "        709       0.47      0.55      0.51       597\n",
      "\n",
      "avg / total       0.57      0.59      0.50      5832\n",
      "\n"
     ]
    },
    {
     "name": "stderr",
     "output_type": "stream",
     "text": [
      "/Users/robert/anaconda/envs/gl-env/lib/python2.7/site-packages/sklearn/metrics/classification.py:1074: UndefinedMetricWarning: Precision and F-score are ill-defined and being set to 0.0 in labels with no predicted samples.\n",
      "  'precision', 'predicted', average, warn_for)\n"
     ]
    },
    {
     "data": {
      "text/plain": [
       "array([[1374,    0,    0,    1,    0,    0,    4,    0,    0,    1],\n",
       "       [ 230,  332,    0,   27,    0,    4,    5,    0,    0,   75],\n",
       "       [ 144,  156,    3,   53,    0,    5,    4,    0,    0,   15],\n",
       "       [  24,    6,    0,  612,    0,   13,    7,    0,    0,   37],\n",
       "       [  53,    0,    0,    0,    0,    0,  309,    0,    0,    0],\n",
       "       [ 119,   41,    0,  272,    0,   92,    2,    1,    0,   33],\n",
       "       [   6,    0,    0,    0,    0,    0,  651,    0,    0,    1],\n",
       "       [ 111,   21,    0,   43,    0,   18,    1,   36,    0,   15],\n",
       "       [   9,   32,    0,   37,    0,    0,    6,    0,    0,  194],\n",
       "       [  17,   27,    0,  215,    0,    0,    9,    0,    0,  329]])"
      ]
     },
     "execution_count": 40,
     "metadata": {},
     "output_type": "execute_result"
    }
   ],
   "source": [
    "print(metrics.classification_report(testTarget, predictedknn))\n",
    "metrics.confusion_matrix(testTarget, predictedknn)"
   ]
  },
  {
   "cell_type": "code",
   "execution_count": 89,
   "metadata": {
    "collapsed": false,
    "deletable": true,
    "editable": true
   },
   "outputs": [
    {
     "ename": "AttributeError",
     "evalue": "'numpy.ndarray' object has no attribute 'plot'",
     "output_type": "error",
     "traceback": [
      "\u001b[0;31m---------------------------------------------------------------------------\u001b[0m",
      "\u001b[0;31mAttributeError\u001b[0m                            Traceback (most recent call last)",
      "\u001b[0;32m<ipython-input-89-a6049e0a32da>\u001b[0m in \u001b[0;36m<module>\u001b[0;34m()\u001b[0m\n\u001b[0;32m----> 1\u001b[0;31m \u001b[0msvm_predicted\u001b[0m\u001b[0;34m.\u001b[0m\u001b[0mplot\u001b[0m\u001b[0;34m(\u001b[0m\u001b[0mkind\u001b[0m\u001b[0;34m=\u001b[0m\u001b[0;34m'bar'\u001b[0m\u001b[0;34m)\u001b[0m\u001b[0;34m\u001b[0m\u001b[0m\n\u001b[0m",
      "\u001b[0;31mAttributeError\u001b[0m: 'numpy.ndarray' object has no attribute 'plot'"
     ]
    }
   ],
   "source": [
    "svm_predicted.plot(kind='bar')\n"
   ]
  },
  {
   "cell_type": "markdown",
   "metadata": {
    "deletable": true,
    "editable": true
   },
   "source": [
    "# Future strategies to test: create multiple columns to convert classes into a 1 or 0 from\n",
    "www.astroml.org/sklearn_tutorial/general_concepts.html"
   ]
  },
  {
   "cell_type": "code",
   "execution_count": null,
   "metadata": {
    "collapsed": true,
    "deletable": true,
    "editable": true
   },
   "outputs": [],
   "source": []
  }
 ],
 "metadata": {
  "anaconda-cloud": {},
  "kernelspec": {
   "display_name": "Python [default]",
   "language": "python",
   "name": "python2"
  },
  "language_info": {
   "codemirror_mode": {
    "name": "ipython",
    "version": 2
   },
   "file_extension": ".py",
   "mimetype": "text/x-python",
   "name": "python",
   "nbconvert_exporter": "python",
   "pygments_lexer": "ipython2",
   "version": "2.7.12"
  }
 },
 "nbformat": 4,
 "nbformat_minor": 0
}
